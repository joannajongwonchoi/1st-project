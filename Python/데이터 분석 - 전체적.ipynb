{
 "cells": [
  {
   "cell_type": "code",
   "execution_count": 5,
   "id": "46713bbb",
   "metadata": {},
   "outputs": [],
   "source": [
    "import cx_Oracle\n",
    "import pandas as pd\n",
    "import numpy as np\n",
    "import matplotlib.pyplot as plt\n",
    "import seaborn as sns\n",
    "import csv\n",
    "import warnings\n",
    "warnings.filterwarnings('ignore')\n",
    "plt.style.use('seaborn')\n",
    "plt.rc('font', family = 'Malgun Gothic') # 한글 입력\n",
    "plt.rcParams['axes.unicode_minus'] = False # 글꼴 변경시 마이너스 표기 가능으로 처리"
   ]
  },
  {
   "cell_type": "code",
   "execution_count": 2,
   "id": "b85ea1a2",
   "metadata": {},
   "outputs": [],
   "source": [
    "# 계절성 보정 사용자 함수\n",
    "\n",
    "def seasonal_scaled(df):\n",
    "    df1 = df.copy()\n",
    "    df1.loc[(df1['연도'] == 2014) & (df1['분기'] == '1분기'), '총구매액'] = np.round(df1.loc[(df1['연도'] == 2014) & (df1['분기'] == '1분기'), '총구매액'] / 0.9476399112)\n",
    "    df1.loc[(df1['연도'] == 2014) & (df1['분기'] == '2분기'), '총구매액'] = np.round(df1.loc[(df1['연도'] == 2014) & (df1['분기'] == '2분기'), '총구매액'] / 0.9785290501)    \n",
    "    df1.loc[(df1['연도'] == 2014) & (df1['분기'] == '3분기'), '총구매액'] = np.round(df1.loc[(df1['연도'] == 2014) & (df1['분기'] == '3분기'), '총구매액'] / 0.9072731695)    \n",
    "    df1.loc[(df1['연도'] == 2014) & (df1['분기'] == '4분기'), '총구매액'] = np.round(df1.loc[(df1['연도'] == 2014) & (df1['분기'] == '4분기'), '총구매액'] / 1.166557869)    \n",
    "    df1.loc[(df1['연도'] == 2015) & (df1['분기'] == '1분기'), '총구매액'] = np.round(df1.loc[(df1['연도'] == 2015) & (df1['분기'] == '1분기'), '총구매액'] / 0.9748289537)    \n",
    "    df1.loc[(df1['연도'] == 2015) & (df1['분기'] == '2분기'), '총구매액'] = np.round(df1.loc[(df1['연도'] == 2015) & (df1['분기'] == '2분기'), '총구매액'] / 0.9784250528)    \n",
    "    df1.loc[(df1['연도'] == 2015) & (df1['분기'] == '3분기'), '총구매액'] = np.round(df1.loc[(df1['연도'] == 2015) & (df1['분기'] == '3분기'), '총구매액'] / 0.912781587)    \n",
    "    df1.loc[(df1['연도'] == 2015) & (df1['분기'] == '4분기'), '총구매액'] = np.round(df1.loc[(df1['연도'] == 2015) & (df1['분기'] == '4분기'), '총구매액'] / 1.133964406)\n",
    "    df1['총구매액'] = df1['총구매액'].astype('int64')\n",
    "    return df1"
   ]
  },
  {
   "cell_type": "code",
   "execution_count": null,
   "id": "49974334",
   "metadata": {},
   "outputs": [],
   "source": [
    "def new_seasonal_scaled(df):\n",
    "    df1 = df.copy()\n",
    "    df1.loc[df1['기'] == '1기', '총구매액'] = np.round(df1.loc[df1['기'] == '1기', '총구매액'] / 0.9476399112)\n",
    "    df1.loc[df1['기'] == '2기', '총구매액'] = np.round(df1.loc[df1['기'] == '2기', '총구매액'] / 0.9785290501)    \n",
    "    df1.loc[df1['기'] == '3기', '총구매액'] = np.round(df1.loc[df1['기'] == '3기', '총구매액'] / 0.9072731695)    \n",
    "    df1.loc[df1['기'] == '4기', '총구매액'] = np.round(df1.loc[df1['기'] == '4기', '총구매액'] / 1.166557869)    \n",
    "    df1.loc[df1['기'] == '5기', '총구매액'] = np.round(df1.loc[df1['기'] == '5기', '총구매액'] / 0.9748289537)    \n",
    "    df1.loc[df1['기'] == '6기', '총구매액'] = np.round(df1.loc[df1['기'] == '6기', '총구매액'] / 0.9784250528)    \n",
    "    df1.loc[df1['기'] == '7기', '총구매액'] = np.round(df1.loc[df1['기'] == '7기', '총구매액'] / 0.912781587)    \n",
    "    df1.loc[df1['기'] == '8기', '총구매액'] = np.round(df1.loc[df1['기'] == '8기', '총구매액'] / 1.133964406)\n",
    "    df1['구매금액'] = df1['총구매액'].astype('int64')\n",
    "    return df1"
   ]
  },
  {
   "cell_type": "code",
   "execution_count": 5,
   "id": "0c74d1a3",
   "metadata": {},
   "outputs": [
    {
     "data": {
      "text/html": [
       "<div>\n",
       "<style scoped>\n",
       "    .dataframe tbody tr th:only-of-type {\n",
       "        vertical-align: middle;\n",
       "    }\n",
       "\n",
       "    .dataframe tbody tr th {\n",
       "        vertical-align: top;\n",
       "    }\n",
       "\n",
       "    .dataframe thead th {\n",
       "        text-align: right;\n",
       "    }\n",
       "</style>\n",
       "<table border=\"1\" class=\"dataframe\">\n",
       "  <thead>\n",
       "    <tr style=\"text-align: right;\">\n",
       "      <th></th>\n",
       "      <th>고객번호</th>\n",
       "      <th>성별</th>\n",
       "      <th>연도</th>\n",
       "      <th>분기</th>\n",
       "      <th>세분류명</th>\n",
       "      <th>분류</th>\n",
       "      <th>고객구분</th>\n",
       "      <th>총구매액</th>\n",
       "    </tr>\n",
       "  </thead>\n",
       "  <tbody>\n",
       "    <tr>\n",
       "      <th>0</th>\n",
       "      <td>00001</td>\n",
       "      <td>M</td>\n",
       "      <td>2014</td>\n",
       "      <td>1분기</td>\n",
       "      <td>선매품</td>\n",
       "      <td>가구/인테리어</td>\n",
       "      <td>감소</td>\n",
       "      <td>187466</td>\n",
       "    </tr>\n",
       "    <tr>\n",
       "      <th>1</th>\n",
       "      <td>00001</td>\n",
       "      <td>M</td>\n",
       "      <td>2014</td>\n",
       "      <td>1분기</td>\n",
       "      <td>선매품</td>\n",
       "      <td>유아동</td>\n",
       "      <td>감소</td>\n",
       "      <td>109472</td>\n",
       "    </tr>\n",
       "    <tr>\n",
       "      <th>2</th>\n",
       "      <td>00001</td>\n",
       "      <td>M</td>\n",
       "      <td>2014</td>\n",
       "      <td>1분기</td>\n",
       "      <td>선매품</td>\n",
       "      <td>의류</td>\n",
       "      <td>감소</td>\n",
       "      <td>5278081</td>\n",
       "    </tr>\n",
       "    <tr>\n",
       "      <th>3</th>\n",
       "      <td>00001</td>\n",
       "      <td>M</td>\n",
       "      <td>2014</td>\n",
       "      <td>1분기</td>\n",
       "      <td>선매품</td>\n",
       "      <td>패션잡화</td>\n",
       "      <td>감소</td>\n",
       "      <td>450635</td>\n",
       "    </tr>\n",
       "    <tr>\n",
       "      <th>4</th>\n",
       "      <td>00001</td>\n",
       "      <td>M</td>\n",
       "      <td>2014</td>\n",
       "      <td>1분기</td>\n",
       "      <td>편의품</td>\n",
       "      <td>가공식품</td>\n",
       "      <td>감소</td>\n",
       "      <td>1275411</td>\n",
       "    </tr>\n",
       "  </tbody>\n",
       "</table>\n",
       "</div>"
      ],
      "text/plain": [
       "    고객번호 성별    연도   분기 세분류명       분류 고객구분     총구매액\n",
       "0  00001  M  2014  1분기  선매품  가구/인테리어   감소   187466\n",
       "1  00001  M  2014  1분기  선매품      유아동   감소   109472\n",
       "2  00001  M  2014  1분기  선매품       의류   감소  5278081\n",
       "3  00001  M  2014  1분기  선매품     패션잡화   감소   450635\n",
       "4  00001  M  2014  1분기  편의품     가공식품   감소  1275411"
      ]
     },
     "metadata": {},
     "output_type": "display_data"
    }
   ],
   "source": [
    "# 고정고객으로 정의한 고객 정보 불러오기\n",
    "con = cx_Oracle.connect('LM_PDB/LM@localhost:1521/xepdb1')\n",
    "cursor = con.cursor()\n",
    "sql = '''SELECT a.고객번호, 성별, 연도, 분기, 세분류명, 분류, 고객구분, sum(구매금액) \"총구매액\"\n",
    "FROM LCL a\n",
    "JOIN 고정고객 b ON a.고객번호 = b.고객번호\n",
    "GROUP BY a.고객번호, 성별, 연도, 분기, 세분류명, 분류, 고객구분\n",
    "ORDER BY a.고객번호, 연도, 분기, 세분류명, 분류'''\n",
    "cursor.execute(sql)\n",
    "x = cursor.fetchall()\n",
    "columns = ['고객번호', '성별', '연도', '분기', '세분류명', '분류', '고객구분', '총구매액']\n",
    "df_all = pd.DataFrame(x, columns = columns)\n",
    "cursor.close()\n",
    "con.commit()\n",
    "con.close()\n",
    "df_all = seasonal_scaled(df_all).copy()\n",
    "display(df_all.head())"
   ]
  },
  {
   "cell_type": "code",
   "execution_count": 6,
   "id": "f41c1338",
   "metadata": {},
   "outputs": [
    {
     "data": {
      "text/html": [
       "<div>\n",
       "<style scoped>\n",
       "    .dataframe tbody tr th:only-of-type {\n",
       "        vertical-align: middle;\n",
       "    }\n",
       "\n",
       "    .dataframe tbody tr th {\n",
       "        vertical-align: top;\n",
       "    }\n",
       "\n",
       "    .dataframe thead th {\n",
       "        text-align: right;\n",
       "    }\n",
       "</style>\n",
       "<table border=\"1\" class=\"dataframe\">\n",
       "  <thead>\n",
       "    <tr style=\"text-align: right;\">\n",
       "      <th></th>\n",
       "      <th>고객번호</th>\n",
       "      <th>성별</th>\n",
       "      <th>연도</th>\n",
       "      <th>분기</th>\n",
       "      <th>세분류명</th>\n",
       "      <th>분류</th>\n",
       "      <th>고객구분</th>\n",
       "      <th>총구매액</th>\n",
       "    </tr>\n",
       "  </thead>\n",
       "  <tbody>\n",
       "    <tr>\n",
       "      <th>0</th>\n",
       "      <td>00001</td>\n",
       "      <td>M</td>\n",
       "      <td>2014</td>\n",
       "      <td>1분기</td>\n",
       "      <td>선매품</td>\n",
       "      <td>가구/인테리어</td>\n",
       "      <td>감소</td>\n",
       "      <td>187466</td>\n",
       "    </tr>\n",
       "    <tr>\n",
       "      <th>1</th>\n",
       "      <td>00001</td>\n",
       "      <td>M</td>\n",
       "      <td>2014</td>\n",
       "      <td>1분기</td>\n",
       "      <td>선매품</td>\n",
       "      <td>유아동</td>\n",
       "      <td>감소</td>\n",
       "      <td>109472</td>\n",
       "    </tr>\n",
       "    <tr>\n",
       "      <th>2</th>\n",
       "      <td>00001</td>\n",
       "      <td>M</td>\n",
       "      <td>2014</td>\n",
       "      <td>1분기</td>\n",
       "      <td>선매품</td>\n",
       "      <td>의류</td>\n",
       "      <td>감소</td>\n",
       "      <td>5278081</td>\n",
       "    </tr>\n",
       "    <tr>\n",
       "      <th>3</th>\n",
       "      <td>00001</td>\n",
       "      <td>M</td>\n",
       "      <td>2014</td>\n",
       "      <td>1분기</td>\n",
       "      <td>선매품</td>\n",
       "      <td>패션잡화</td>\n",
       "      <td>감소</td>\n",
       "      <td>450635</td>\n",
       "    </tr>\n",
       "    <tr>\n",
       "      <th>4</th>\n",
       "      <td>00001</td>\n",
       "      <td>M</td>\n",
       "      <td>2014</td>\n",
       "      <td>1분기</td>\n",
       "      <td>편의품</td>\n",
       "      <td>가공식품</td>\n",
       "      <td>감소</td>\n",
       "      <td>1275411</td>\n",
       "    </tr>\n",
       "  </tbody>\n",
       "</table>\n",
       "</div>"
      ],
      "text/plain": [
       "    고객번호 성별    연도   분기 세분류명       분류 고객구분     총구매액\n",
       "0  00001  M  2014  1분기  선매품  가구/인테리어   감소   187466\n",
       "1  00001  M  2014  1분기  선매품      유아동   감소   109472\n",
       "2  00001  M  2014  1분기  선매품       의류   감소  5278081\n",
       "3  00001  M  2014  1분기  선매품     패션잡화   감소   450635\n",
       "4  00001  M  2014  1분기  편의품     가공식품   감소  1275411"
      ]
     },
     "metadata": {},
     "output_type": "display_data"
    }
   ],
   "source": [
    "# 매출 감소인 고객만 가져오기\n",
    "con = cx_Oracle.connect('LM_PDB/LM@localhost:1521/xepdb1')\n",
    "cursor = con.cursor()\n",
    "sql = '''SELECT a.고객번호, 성별, 연도, 분기, 세분류명, 분류, 고객구분, sum(구매금액) \"총구매액\"\n",
    "FROM LCL a\n",
    "JOIN 고정고객 b ON a.고객번호 = b.고객번호\n",
    "WHERE 고객구분 = '감소'\n",
    "GROUP BY a.고객번호, 성별, 연도, 분기, 세분류명, 분류, 고객구분\n",
    "ORDER BY a.고객번호, 연도, 분기, 세분류명, 분류'''\n",
    "cursor.execute(sql)\n",
    "x = cursor.fetchall()\n",
    "columns = ['고객번호', '성별', '연도', '분기', '세분류명', '분류', '고객구분', '총구매액']\n",
    "df_down = pd.DataFrame(x, columns = columns)\n",
    "cursor.close()\n",
    "con.commit()\n",
    "con.close()\n",
    "df_down = seasonal_scaled(df_down).copy()\n",
    "display(df_down.head())"
   ]
  },
  {
   "cell_type": "code",
   "execution_count": 7,
   "id": "9d3b6a0f",
   "metadata": {},
   "outputs": [
    {
     "data": {
      "text/html": [
       "<div>\n",
       "<style scoped>\n",
       "    .dataframe tbody tr th:only-of-type {\n",
       "        vertical-align: middle;\n",
       "    }\n",
       "\n",
       "    .dataframe tbody tr th {\n",
       "        vertical-align: top;\n",
       "    }\n",
       "\n",
       "    .dataframe thead th {\n",
       "        text-align: right;\n",
       "    }\n",
       "</style>\n",
       "<table border=\"1\" class=\"dataframe\">\n",
       "  <thead>\n",
       "    <tr style=\"text-align: right;\">\n",
       "      <th></th>\n",
       "      <th>고객번호</th>\n",
       "      <th>성별</th>\n",
       "      <th>연도</th>\n",
       "      <th>분기</th>\n",
       "      <th>세분류명</th>\n",
       "      <th>분류</th>\n",
       "      <th>고객구분</th>\n",
       "      <th>총구매액</th>\n",
       "    </tr>\n",
       "  </thead>\n",
       "  <tbody>\n",
       "    <tr>\n",
       "      <th>0</th>\n",
       "      <td>00002</td>\n",
       "      <td>M</td>\n",
       "      <td>2014</td>\n",
       "      <td>1분기</td>\n",
       "      <td>선매품</td>\n",
       "      <td>가구/인테리어</td>\n",
       "      <td>증가</td>\n",
       "      <td>501140</td>\n",
       "    </tr>\n",
       "    <tr>\n",
       "      <th>1</th>\n",
       "      <td>00002</td>\n",
       "      <td>M</td>\n",
       "      <td>2014</td>\n",
       "      <td>1분기</td>\n",
       "      <td>선매품</td>\n",
       "      <td>디지털/가전</td>\n",
       "      <td>증가</td>\n",
       "      <td>311300</td>\n",
       "    </tr>\n",
       "    <tr>\n",
       "      <th>2</th>\n",
       "      <td>00002</td>\n",
       "      <td>M</td>\n",
       "      <td>2014</td>\n",
       "      <td>1분기</td>\n",
       "      <td>선매품</td>\n",
       "      <td>유아동</td>\n",
       "      <td>증가</td>\n",
       "      <td>120214</td>\n",
       "    </tr>\n",
       "    <tr>\n",
       "      <th>3</th>\n",
       "      <td>00002</td>\n",
       "      <td>M</td>\n",
       "      <td>2014</td>\n",
       "      <td>1분기</td>\n",
       "      <td>선매품</td>\n",
       "      <td>의류</td>\n",
       "      <td>증가</td>\n",
       "      <td>3900511</td>\n",
       "    </tr>\n",
       "    <tr>\n",
       "      <th>4</th>\n",
       "      <td>00002</td>\n",
       "      <td>M</td>\n",
       "      <td>2014</td>\n",
       "      <td>1분기</td>\n",
       "      <td>선매품</td>\n",
       "      <td>패션잡화</td>\n",
       "      <td>증가</td>\n",
       "      <td>350682</td>\n",
       "    </tr>\n",
       "  </tbody>\n",
       "</table>\n",
       "</div>"
      ],
      "text/plain": [
       "    고객번호 성별    연도   분기 세분류명       분류 고객구분     총구매액\n",
       "0  00002  M  2014  1분기  선매품  가구/인테리어   증가   501140\n",
       "1  00002  M  2014  1분기  선매품   디지털/가전   증가   311300\n",
       "2  00002  M  2014  1분기  선매품      유아동   증가   120214\n",
       "3  00002  M  2014  1분기  선매품       의류   증가  3900511\n",
       "4  00002  M  2014  1분기  선매품     패션잡화   증가   350682"
      ]
     },
     "metadata": {},
     "output_type": "display_data"
    }
   ],
   "source": [
    "# 매출 증가인 고객만 가져오기\n",
    "con = cx_Oracle.connect('LM_PDB/LM@localhost:1521/xepdb1')\n",
    "cursor = con.cursor()\n",
    "sql = '''SELECT a.고객번호, 성별, 연도, 분기, 세분류명, 분류, 고객구분, sum(구매금액) \"총구매액\"\n",
    "FROM LCL a\n",
    "JOIN 고정고객 b ON a.고객번호 = b.고객번호\n",
    "WHERE 고객구분 = '증가'\n",
    "GROUP BY a.고객번호, 성별, 연도, 분기, 세분류명, 분류, 고객구분\n",
    "ORDER BY a.고객번호, 연도, 분기, 세분류명, 분류'''\n",
    "cursor.execute(sql)\n",
    "x = cursor.fetchall()\n",
    "columns = ['고객번호', '성별', '연도', '분기', '세분류명', '분류', '고객구분', '총구매액']\n",
    "df_up = pd.DataFrame(x, columns = columns)\n",
    "cursor.close()\n",
    "con.commit()\n",
    "con.close()\n",
    "df_up = seasonal_scaled(df_up).copy()\n",
    "display(df_up.head())"
   ]
  },
  {
   "cell_type": "code",
   "execution_count": 11,
   "id": "1cdd3152",
   "metadata": {},
   "outputs": [
    {
     "ename": "KeyboardInterrupt",
     "evalue": "",
     "output_type": "error",
     "traceback": [
      "\u001b[1;31m---------------------------------------------------------------------------\u001b[0m",
      "\u001b[1;31mKeyboardInterrupt\u001b[0m                         Traceback (most recent call last)",
      "\u001b[1;32m~\\AppData\\Local\\Temp/ipykernel_5520/3518147882.py\u001b[0m in \u001b[0;36m<module>\u001b[1;34m\u001b[0m\n\u001b[0;32m      8\u001b[0m ORDER BY a.고객번호, a.성별, a.연령대, a.지역, a.세분류명, a.분류, b.고객구분, a.기'''\n\u001b[0;32m      9\u001b[0m \u001b[0mcursor\u001b[0m\u001b[1;33m.\u001b[0m\u001b[0mexecute\u001b[0m\u001b[1;33m(\u001b[0m\u001b[0msql\u001b[0m\u001b[1;33m)\u001b[0m\u001b[1;33m\u001b[0m\u001b[1;33m\u001b[0m\u001b[0m\n\u001b[1;32m---> 10\u001b[1;33m \u001b[0mx\u001b[0m \u001b[1;33m=\u001b[0m \u001b[0mcursor\u001b[0m\u001b[1;33m.\u001b[0m\u001b[0mfetchall\u001b[0m\u001b[1;33m(\u001b[0m\u001b[1;33m)\u001b[0m\u001b[1;33m\u001b[0m\u001b[1;33m\u001b[0m\u001b[0m\n\u001b[0m\u001b[0;32m     11\u001b[0m \u001b[0mcolumns\u001b[0m \u001b[1;33m=\u001b[0m \u001b[1;33m[\u001b[0m\u001b[1;34m'고객번호'\u001b[0m\u001b[1;33m,\u001b[0m \u001b[1;34m'성별'\u001b[0m\u001b[1;33m,\u001b[0m \u001b[1;34m'연령대'\u001b[0m\u001b[1;33m,\u001b[0m \u001b[1;34m'지역'\u001b[0m\u001b[1;33m,\u001b[0m \u001b[1;34m'세분류명'\u001b[0m\u001b[1;33m,\u001b[0m \u001b[1;34m'분류'\u001b[0m\u001b[1;33m,\u001b[0m \u001b[1;34m'고객구분'\u001b[0m\u001b[1;33m,\u001b[0m\u001b[1;34m'기'\u001b[0m\u001b[1;33m,\u001b[0m \u001b[1;34m'총구매액'\u001b[0m\u001b[1;33m]\u001b[0m\u001b[1;33m\u001b[0m\u001b[1;33m\u001b[0m\u001b[0m\n\u001b[0;32m     12\u001b[0m \u001b[0mdf_all\u001b[0m \u001b[1;33m=\u001b[0m \u001b[0mpd\u001b[0m\u001b[1;33m.\u001b[0m\u001b[0mDataFrame\u001b[0m\u001b[1;33m(\u001b[0m\u001b[0mx\u001b[0m\u001b[1;33m,\u001b[0m \u001b[0mcolumns\u001b[0m \u001b[1;33m=\u001b[0m \u001b[0mcolumns\u001b[0m\u001b[1;33m)\u001b[0m\u001b[1;33m\u001b[0m\u001b[1;33m\u001b[0m\u001b[0m\n",
      "\u001b[1;31mKeyboardInterrupt\u001b[0m: "
     ]
    }
   ],
   "source": [
    "# 고정고객으로 정의한 고객 정보 불러오기\n",
    "con = cx_Oracle.connect('LM_PDB/LM@localhost:1521/xepdb1')\n",
    "cursor = con.cursor()\n",
    "sql = '''SELECT a.고객번호, a.성별, a.연령대, a.지역, a.세분류명, a.분류, b.고객구분, a.기, sum(a.구매금액) \"총구매액\"\n",
    "FROM LCL2 a\n",
    "JOIN 고정고객 b ON a.고객번호 = b.고객번호\n",
    "GROUP BY a.고객번호, a.성별, a.연령대, a.지역, a.세분류명, a.분류, b.고객구분, a.기\n",
    "ORDER BY a.고객번호, a.성별, a.연령대, a.지역, a.세분류명, a.분류, b.고객구분, a.기'''\n",
    "cursor.execute(sql)\n",
    "x = cursor.fetchall()\n",
    "columns = ['고객번호', '성별', '연령대', '지역', '세분류명', '분류', '고객구분','기', '총구매액']\n",
    "df_all = pd.DataFrame(x, columns = columns)\n",
    "cursor.close()\n",
    "con.commit()\n",
    "con.close()\n",
    "df_all = new_seasonal_scaled(df_all).copy()\n",
    "display(df_all.head())"
   ]
  },
  {
   "cell_type": "code",
   "execution_count": null,
   "id": "3e3189fb",
   "metadata": {},
   "outputs": [],
   "source": [
    "SELECT a.고객번호, a.성별, a.연령대, a.지역, a.세분류명, a.분류, b.고객구분, a.기, sum(a.구매금액) \"총구매액\"\n",
    "FROM LCL2 a\n",
    "JOIN 증감고객 b ON a.고객번호 = b.고객번호\n",
    "WHERE 고객구분 = '감소'\n",
    "GROUP BY a.고객번호, a.성별, a.연령대, a.지역, a.세분류명, a.분류, b.고객구분, a.기\n",
    "ORDER BY a.고객번호, a.성별, a.연령대, a.지역, a.세분류명, a.분류, b.고객구분, a.기;\n"
   ]
  },
  {
   "cell_type": "code",
   "execution_count": 7,
   "id": "c5b5a7d6",
   "metadata": {},
   "outputs": [
    {
     "data": {
      "text/plain": [
       "668425127931"
      ]
     },
     "execution_count": 7,
     "metadata": {},
     "output_type": "execute_result"
    }
   ],
   "source": [
    "# 고정고객으로 정의한 고객들의 총 구매액의 합\n",
    "df_all['총구매액'].sum()"
   ]
  },
  {
   "cell_type": "code",
   "execution_count": 8,
   "id": "e1eee96b",
   "metadata": {},
   "outputs": [
    {
     "data": {
      "text/html": [
       "<div>\n",
       "<style scoped>\n",
       "    .dataframe tbody tr th:only-of-type {\n",
       "        vertical-align: middle;\n",
       "    }\n",
       "\n",
       "    .dataframe tbody tr th {\n",
       "        vertical-align: top;\n",
       "    }\n",
       "\n",
       "    .dataframe thead th {\n",
       "        text-align: right;\n",
       "    }\n",
       "</style>\n",
       "<table border=\"1\" class=\"dataframe\">\n",
       "  <thead>\n",
       "    <tr style=\"text-align: right;\">\n",
       "      <th></th>\n",
       "      <th>총구매액</th>\n",
       "    </tr>\n",
       "    <tr>\n",
       "      <th>연도</th>\n",
       "      <th></th>\n",
       "    </tr>\n",
       "  </thead>\n",
       "  <tbody>\n",
       "    <tr>\n",
       "      <th>2014</th>\n",
       "      <td>326890579100</td>\n",
       "    </tr>\n",
       "    <tr>\n",
       "      <th>2015</th>\n",
       "      <td>341534548831</td>\n",
       "    </tr>\n",
       "  </tbody>\n",
       "</table>\n",
       "</div>"
      ],
      "text/plain": [
       "              총구매액\n",
       "연도                \n",
       "2014  326890579100\n",
       "2015  341534548831"
      ]
     },
     "execution_count": 8,
     "metadata": {},
     "output_type": "execute_result"
    }
   ],
   "source": [
    "# 고정고객으로 정의한 고객들의 연도별 총 구매액의 합\n",
    "df_all[['연도','총구매액']].groupby(['연도']).sum()"
   ]
  },
  {
   "cell_type": "code",
   "execution_count": 9,
   "id": "e2cf1b1c",
   "metadata": {},
   "outputs": [
    {
     "data": {
      "text/html": [
       "<div>\n",
       "<style scoped>\n",
       "    .dataframe tbody tr th:only-of-type {\n",
       "        vertical-align: middle;\n",
       "    }\n",
       "\n",
       "    .dataframe tbody tr th {\n",
       "        vertical-align: top;\n",
       "    }\n",
       "\n",
       "    .dataframe thead th {\n",
       "        text-align: right;\n",
       "    }\n",
       "</style>\n",
       "<table border=\"1\" class=\"dataframe\">\n",
       "  <thead>\n",
       "    <tr style=\"text-align: right;\">\n",
       "      <th></th>\n",
       "      <th></th>\n",
       "      <th>총구매액</th>\n",
       "    </tr>\n",
       "    <tr>\n",
       "      <th>연도</th>\n",
       "      <th>분기</th>\n",
       "      <th></th>\n",
       "    </tr>\n",
       "  </thead>\n",
       "  <tbody>\n",
       "    <tr>\n",
       "      <th rowspan=\"4\" valign=\"top\">2014</th>\n",
       "      <th>1분기</th>\n",
       "      <td>81722645452</td>\n",
       "    </tr>\n",
       "    <tr>\n",
       "      <th>2분기</th>\n",
       "      <td>81722644342</td>\n",
       "    </tr>\n",
       "    <tr>\n",
       "      <th>3분기</th>\n",
       "      <td>81722644467</td>\n",
       "    </tr>\n",
       "    <tr>\n",
       "      <th>4분기</th>\n",
       "      <td>81722644839</td>\n",
       "    </tr>\n",
       "    <tr>\n",
       "      <th rowspan=\"4\" valign=\"top\">2015</th>\n",
       "      <th>1분기</th>\n",
       "      <td>85383636840</td>\n",
       "    </tr>\n",
       "    <tr>\n",
       "      <th>2분기</th>\n",
       "      <td>85383636788</td>\n",
       "    </tr>\n",
       "    <tr>\n",
       "      <th>3분기</th>\n",
       "      <td>85383638142</td>\n",
       "    </tr>\n",
       "    <tr>\n",
       "      <th>4분기</th>\n",
       "      <td>85383637061</td>\n",
       "    </tr>\n",
       "  </tbody>\n",
       "</table>\n",
       "</div>"
      ],
      "text/plain": [
       "                 총구매액\n",
       "연도   분기              \n",
       "2014 1분기  81722645452\n",
       "     2분기  81722644342\n",
       "     3분기  81722644467\n",
       "     4분기  81722644839\n",
       "2015 1분기  85383636840\n",
       "     2분기  85383636788\n",
       "     3분기  85383638142\n",
       "     4분기  85383637061"
      ]
     },
     "execution_count": 9,
     "metadata": {},
     "output_type": "execute_result"
    }
   ],
   "source": [
    "df_all[['연도','분기','총구매액']].groupby(['연도','분기']).sum()"
   ]
  },
  {
   "cell_type": "code",
   "execution_count": 16,
   "id": "7affee72",
   "metadata": {},
   "outputs": [
    {
     "data": {
      "text/plain": [
       "0.045"
      ]
     },
     "execution_count": 16,
     "metadata": {},
     "output_type": "execute_result"
    }
   ],
   "source": [
    "# 고정고객 1분기 8분기 총매출액 증감율\n",
    "round((85383637061 - 81722645452)/81722645452,3)"
   ]
  },
  {
   "cell_type": "code",
   "execution_count": 3,
   "id": "d0aa23a4",
   "metadata": {},
   "outputs": [
    {
     "data": {
      "text/plain": [
       "0.237"
      ]
     },
     "execution_count": 3,
     "metadata": {},
     "output_type": "execute_result"
    }
   ],
   "source": [
    "round((15709186603 + 85383637061 - 81722645452)/81722645452,3)"
   ]
  },
  {
   "cell_type": "code",
   "execution_count": 17,
   "id": "bc1f1109",
   "metadata": {},
   "outputs": [
    {
     "data": {
      "text/plain": [
       "<AxesSubplot:>"
      ]
     },
     "execution_count": 17,
     "metadata": {},
     "output_type": "execute_result"
    },
    {
     "data": {
      "image/png": "[encoded data removed]",
      "text/plain": [
       "<Figure size 720x720 with 1 Axes>"
      ]
     },
     "metadata": {},
     "output_type": "display_data"
    }
   ],
   "source": [
    "import seaborn as sns\n",
    "plt.figure(figsize=(10,10))\n",
    "palette = sns.color_palette(\"bright\")\n",
    "sns.set_palette(\"colorblind\")\n",
    "sns.barplot(x=['1기','8기'], y=[15709186603 + 85383637061,81722645452],color = 'orange')"
   ]
  },
  {
   "cell_type": "code",
   "execution_count": 13,
   "id": "3b80f505",
   "metadata": {},
   "outputs": [
    {
     "data": {
      "image/png": "[encoded data removed]",
      "text/plain": [
       "<Figure size 720x720 with 1 Axes>"
      ]
     },
     "metadata": {},
     "output_type": "display_data"
    }
   ],
   "source": [
    "import seaborn as sns\n",
    "plt.figure(figsize=(10,10))\n",
    "palette = sns.color_palette(\"bright\")\n",
    "sns.set_palette(\"colorblind\")\n",
    "sns.barplot(x=['1기','8기'], y=[81722645452,85383637061],color = 'dodgerblue');"
   ]
  },
  {
   "cell_type": "code",
   "execution_count": 14,
   "id": "907c4f49",
   "metadata": {},
   "outputs": [
    {
     "data": {
      "image/png": "[encoded data removed]",
      "text/plain": [
       "<Figure size 720x720 with 1 Axes>"
      ]
     },
     "metadata": {},
     "output_type": "display_data"
    }
   ],
   "source": [
    "import seaborn as sns\n",
    "plt.figure(figsize=(10,10))\n",
    "palette = sns.color_palette(\"bright\")\n",
    "sns.set_palette(\"colorblind\")\n",
    "sns.barplot(x=['1기','8기'], y=[51897068780,36187882177], color = 'orangered');"
   ]
  },
  {
   "cell_type": "code",
   "execution_count": null,
   "id": "0c4a35e5",
   "metadata": {},
   "outputs": [],
   "source": [
    "(51897068780 - 36187882177)"
   ]
  },
  {
   "cell_type": "code",
   "execution_count": 12,
   "id": "b90e776a",
   "metadata": {},
   "outputs": [
    {
     "data": {
      "text/plain": [
       "109282119038"
      ]
     },
     "execution_count": 12,
     "metadata": {},
     "output_type": "execute_result"
    }
   ],
   "source": [
    "23898480896 + 85383638142"
   ]
  },
  {
   "cell_type": "code",
   "execution_count": 12,
   "id": "1fe6f702",
   "metadata": {},
   "outputs": [
    {
     "data": {
      "text/html": [
       "<div>\n",
       "<style scoped>\n",
       "    .dataframe tbody tr th:only-of-type {\n",
       "        vertical-align: middle;\n",
       "    }\n",
       "\n",
       "    .dataframe tbody tr th {\n",
       "        vertical-align: top;\n",
       "    }\n",
       "\n",
       "    .dataframe thead th {\n",
       "        text-align: right;\n",
       "    }\n",
       "</style>\n",
       "<table border=\"1\" class=\"dataframe\">\n",
       "  <thead>\n",
       "    <tr style=\"text-align: right;\">\n",
       "      <th></th>\n",
       "      <th></th>\n",
       "      <th>총구매액</th>\n",
       "    </tr>\n",
       "    <tr>\n",
       "      <th>연도</th>\n",
       "      <th>분기</th>\n",
       "      <th></th>\n",
       "    </tr>\n",
       "  </thead>\n",
       "  <tbody>\n",
       "    <tr>\n",
       "      <th rowspan=\"4\" valign=\"top\">2014</th>\n",
       "      <th>1분기</th>\n",
       "      <td>29825576672</td>\n",
       "    </tr>\n",
       "    <tr>\n",
       "      <th>2분기</th>\n",
       "      <td>38393223634</td>\n",
       "    </tr>\n",
       "    <tr>\n",
       "      <th>3분기</th>\n",
       "      <td>41607645543</td>\n",
       "    </tr>\n",
       "    <tr>\n",
       "      <th>4분기</th>\n",
       "      <td>42802452981</td>\n",
       "    </tr>\n",
       "    <tr>\n",
       "      <th rowspan=\"4\" valign=\"top\">2015</th>\n",
       "      <th>1분기</th>\n",
       "      <td>45979897499</td>\n",
       "    </tr>\n",
       "    <tr>\n",
       "      <th>2분기</th>\n",
       "      <td>48293331947</td>\n",
       "    </tr>\n",
       "    <tr>\n",
       "      <th>3분기</th>\n",
       "      <td>57385050258</td>\n",
       "    </tr>\n",
       "    <tr>\n",
       "      <th>4분기</th>\n",
       "      <td>49195754884</td>\n",
       "    </tr>\n",
       "  </tbody>\n",
       "</table>\n",
       "</div>"
      ],
      "text/plain": [
       "                 총구매액\n",
       "연도   분기              \n",
       "2014 1분기  29825576672\n",
       "     2분기  38393223634\n",
       "     3분기  41607645543\n",
       "     4분기  42802452981\n",
       "2015 1분기  45979897499\n",
       "     2분기  48293331947\n",
       "     3분기  57385050258\n",
       "     4분기  49195754884"
      ]
     },
     "execution_count": 12,
     "metadata": {},
     "output_type": "execute_result"
    }
   ],
   "source": [
    "df_up[['연도','분기','총구매액']].groupby(['연도','분기']).sum()"
   ]
  },
  {
   "cell_type": "code",
   "execution_count": 13,
   "id": "ba0923ce",
   "metadata": {},
   "outputs": [
    {
     "data": {
      "text/plain": [
       "92.40214829399292"
      ]
     },
     "execution_count": 13,
     "metadata": {},
     "output_type": "execute_result"
    }
   ],
   "source": [
    "(57385050258-29825576672)/29825576672*100"
   ]
  },
  {
   "cell_type": "code",
   "execution_count": 14,
   "id": "b980ca2f",
   "metadata": {},
   "outputs": [
    {
     "data": {
      "text/html": [
       "<div>\n",
       "<style scoped>\n",
       "    .dataframe tbody tr th:only-of-type {\n",
       "        vertical-align: middle;\n",
       "    }\n",
       "\n",
       "    .dataframe tbody tr th {\n",
       "        vertical-align: top;\n",
       "    }\n",
       "\n",
       "    .dataframe thead th {\n",
       "        text-align: right;\n",
       "    }\n",
       "</style>\n",
       "<table border=\"1\" class=\"dataframe\">\n",
       "  <thead>\n",
       "    <tr style=\"text-align: right;\">\n",
       "      <th></th>\n",
       "      <th></th>\n",
       "      <th>총구매액</th>\n",
       "    </tr>\n",
       "    <tr>\n",
       "      <th>연도</th>\n",
       "      <th>분기</th>\n",
       "      <th></th>\n",
       "    </tr>\n",
       "  </thead>\n",
       "  <tbody>\n",
       "    <tr>\n",
       "      <th rowspan=\"4\" valign=\"top\">2014</th>\n",
       "      <th>1분기</th>\n",
       "      <td>51897068780</td>\n",
       "    </tr>\n",
       "    <tr>\n",
       "      <th>2분기</th>\n",
       "      <td>43329420708</td>\n",
       "    </tr>\n",
       "    <tr>\n",
       "      <th>3분기</th>\n",
       "      <td>40114998924</td>\n",
       "    </tr>\n",
       "    <tr>\n",
       "      <th>4분기</th>\n",
       "      <td>38920191858</td>\n",
       "    </tr>\n",
       "    <tr>\n",
       "      <th rowspan=\"4\" valign=\"top\">2015</th>\n",
       "      <th>1분기</th>\n",
       "      <td>39403739341</td>\n",
       "    </tr>\n",
       "    <tr>\n",
       "      <th>2분기</th>\n",
       "      <td>37090304841</td>\n",
       "    </tr>\n",
       "    <tr>\n",
       "      <th>3분기</th>\n",
       "      <td>27998587884</td>\n",
       "    </tr>\n",
       "    <tr>\n",
       "      <th>4분기</th>\n",
       "      <td>36187882177</td>\n",
       "    </tr>\n",
       "  </tbody>\n",
       "</table>\n",
       "</div>"
      ],
      "text/plain": [
       "                 총구매액\n",
       "연도   분기              \n",
       "2014 1분기  51897068780\n",
       "     2분기  43329420708\n",
       "     3분기  40114998924\n",
       "     4분기  38920191858\n",
       "2015 1분기  39403739341\n",
       "     2분기  37090304841\n",
       "     3분기  27998587884\n",
       "     4분기  36187882177"
      ]
     },
     "execution_count": 14,
     "metadata": {},
     "output_type": "execute_result"
    }
   ],
   "source": [
    "df_down[['연도','분기','총구매액']].groupby(['연도','분기']).sum()"
   ]
  },
  {
   "cell_type": "code",
   "execution_count": 2,
   "id": "9bb2bebf",
   "metadata": {},
   "outputs": [
    {
     "data": {
      "text/plain": [
       "15709186603"
      ]
     },
     "execution_count": 2,
     "metadata": {},
     "output_type": "execute_result"
    }
   ],
   "source": [
    "# 감소로 정의된 고객 1분기 8분기 총매출액 차이\n",
    "(51897068780 - 36187882177)"
   ]
  },
  {
   "cell_type": "code",
   "execution_count": 1,
   "id": "c896976a",
   "metadata": {},
   "outputs": [
    {
     "data": {
      "text/plain": [
       "-30.26989186921859"
      ]
     },
     "execution_count": 1,
     "metadata": {},
     "output_type": "execute_result"
    }
   ],
   "source": [
    "(36187882177-51897068780)/51897068780*100"
   ]
  },
  {
   "cell_type": "code",
   "execution_count": 17,
   "id": "1fded3e1",
   "metadata": {},
   "outputs": [
    {
     "data": {
      "text/plain": [
       "15427758161"
      ]
     },
     "execution_count": 17,
     "metadata": {},
     "output_type": "execute_result"
    }
   ],
   "source": [
    "# 고정고객으로 정의한 고객들의 2014년도 대비 2015년도 증가한 매출액\n",
    "341507338440-326079580279"
   ]
  },
  {
   "cell_type": "code",
   "execution_count": 18,
   "id": "8ee46316",
   "metadata": {},
   "outputs": [
    {
     "data": {
      "text/plain": [
       "4.731286193327321"
      ]
     },
     "execution_count": 18,
     "metadata": {},
     "output_type": "execute_result"
    }
   ],
   "source": [
    "# 고정고객으로 정의한 고객들의 2014년도 대비 2015년도 매출 증가율\n",
    "abs(100-(341507338440/326079580279)*100)"
   ]
  },
  {
   "cell_type": "code",
   "execution_count": 19,
   "id": "40922d79",
   "metadata": {},
   "outputs": [
    {
     "data": {
      "text/plain": [
       "2.310973706705274"
      ]
     },
     "execution_count": 19,
     "metadata": {},
     "output_type": "execute_result"
    }
   ],
   "source": [
    "(15427758161/667586918719)*100"
   ]
  },
  {
   "cell_type": "code",
   "execution_count": 20,
   "id": "c0dadf4a",
   "metadata": {},
   "outputs": [
    {
     "data": {
      "text/html": [
       "<div>\n",
       "<style scoped>\n",
       "    .dataframe tbody tr th:only-of-type {\n",
       "        vertical-align: middle;\n",
       "    }\n",
       "\n",
       "    .dataframe tbody tr th {\n",
       "        vertical-align: top;\n",
       "    }\n",
       "\n",
       "    .dataframe thead th {\n",
       "        text-align: right;\n",
       "    }\n",
       "</style>\n",
       "<table border=\"1\" class=\"dataframe\">\n",
       "  <thead>\n",
       "    <tr style=\"text-align: right;\">\n",
       "      <th></th>\n",
       "      <th>총구매액</th>\n",
       "    </tr>\n",
       "    <tr>\n",
       "      <th>연도</th>\n",
       "      <th></th>\n",
       "    </tr>\n",
       "  </thead>\n",
       "  <tbody>\n",
       "    <tr>\n",
       "      <th>2014</th>\n",
       "      <td>174261680270</td>\n",
       "    </tr>\n",
       "    <tr>\n",
       "      <th>2015</th>\n",
       "      <td>140680514243</td>\n",
       "    </tr>\n",
       "  </tbody>\n",
       "</table>\n",
       "</div>"
      ],
      "text/plain": [
       "              총구매액\n",
       "연도                \n",
       "2014  174261680270\n",
       "2015  140680514243"
      ]
     },
     "execution_count": 20,
     "metadata": {},
     "output_type": "execute_result"
    }
   ],
   "source": [
    "# 감소고객으로 정의한 고객들의 연도별 총 구매액의 합\n",
    "df_down[['연도','총구매액']].groupby(['연도']).sum()"
   ]
  },
  {
   "cell_type": "code",
   "execution_count": 21,
   "id": "5496abc0",
   "metadata": {},
   "outputs": [
    {
     "data": {
      "text/plain": [
       "-19.103090703587867"
      ]
     },
     "execution_count": 21,
     "metadata": {},
     "output_type": "execute_result"
    }
   ],
   "source": [
    "# 감소고객의 매출 중에서 14년도에서 15년도 매출 감소율\n",
    "(140625530648-173833007801)/173833007801*100"
   ]
  },
  {
   "cell_type": "code",
   "execution_count": 22,
   "id": "2b6b6603",
   "metadata": {},
   "outputs": [
    {
     "data": {
      "text/plain": [
       "33207477153"
      ]
     },
     "execution_count": 22,
     "metadata": {},
     "output_type": "execute_result"
    }
   ],
   "source": [
    "# 감소고객의 매출 중에서 14년도에서 15년도 매출\n",
    "173833007801-140625530648"
   ]
  },
  {
   "cell_type": "code",
   "execution_count": 23,
   "id": "aa27cfe9",
   "metadata": {},
   "outputs": [
    {
     "data": {
      "text/plain": [
       "4.974255220087327"
      ]
     },
     "execution_count": 23,
     "metadata": {},
     "output_type": "execute_result"
    }
   ],
   "source": [
    "# 고정고객 총 매출 중에 감소고객의 매출감소한 비율\n",
    "(33207477153/667586918719)*100"
   ]
  },
  {
   "cell_type": "code",
   "execution_count": 24,
   "id": "3b0b65c2",
   "metadata": {},
   "outputs": [
    {
     "data": {
      "text/html": [
       "<div>\n",
       "<style scoped>\n",
       "    .dataframe tbody tr th:only-of-type {\n",
       "        vertical-align: middle;\n",
       "    }\n",
       "\n",
       "    .dataframe tbody tr th {\n",
       "        vertical-align: top;\n",
       "    }\n",
       "\n",
       "    .dataframe thead tr th {\n",
       "        text-align: left;\n",
       "    }\n",
       "\n",
       "    .dataframe thead tr:last-of-type th {\n",
       "        text-align: right;\n",
       "    }\n",
       "</style>\n",
       "<table border=\"1\" class=\"dataframe\">\n",
       "  <thead>\n",
       "    <tr>\n",
       "      <th>분기</th>\n",
       "      <th colspan=\"3\" halign=\"left\">1분기</th>\n",
       "      <th colspan=\"3\" halign=\"left\">2분기</th>\n",
       "      <th colspan=\"3\" halign=\"left\">3분기</th>\n",
       "      <th colspan=\"3\" halign=\"left\">4분기</th>\n",
       "    </tr>\n",
       "    <tr>\n",
       "      <th>세분류명</th>\n",
       "      <th>선매품</th>\n",
       "      <th>전문품</th>\n",
       "      <th>편의품</th>\n",
       "      <th>선매품</th>\n",
       "      <th>전문품</th>\n",
       "      <th>편의품</th>\n",
       "      <th>선매품</th>\n",
       "      <th>전문품</th>\n",
       "      <th>편의품</th>\n",
       "      <th>선매품</th>\n",
       "      <th>전문품</th>\n",
       "      <th>편의품</th>\n",
       "    </tr>\n",
       "    <tr>\n",
       "      <th>연도</th>\n",
       "      <th></th>\n",
       "      <th></th>\n",
       "      <th></th>\n",
       "      <th></th>\n",
       "      <th></th>\n",
       "      <th></th>\n",
       "      <th></th>\n",
       "      <th></th>\n",
       "      <th></th>\n",
       "      <th></th>\n",
       "      <th></th>\n",
       "      <th></th>\n",
       "    </tr>\n",
       "  </thead>\n",
       "  <tbody>\n",
       "    <tr>\n",
       "      <th>2014</th>\n",
       "      <td>42934693552</td>\n",
       "      <td>7014171399</td>\n",
       "      <td>31773780501</td>\n",
       "      <td>44345968514</td>\n",
       "      <td>7144509300</td>\n",
       "      <td>30232166528</td>\n",
       "      <td>40021415079</td>\n",
       "      <td>6565896238</td>\n",
       "      <td>35135333150</td>\n",
       "      <td>47698473010</td>\n",
       "      <td>7807768855</td>\n",
       "      <td>26216402974</td>\n",
       "    </tr>\n",
       "    <tr>\n",
       "      <th>2015</th>\n",
       "      <td>43062126983</td>\n",
       "      <td>8449488109</td>\n",
       "      <td>33872021748</td>\n",
       "      <td>45041218944</td>\n",
       "      <td>9014991726</td>\n",
       "      <td>31327426118</td>\n",
       "      <td>40182496566</td>\n",
       "      <td>8430342484</td>\n",
       "      <td>36770799092</td>\n",
       "      <td>48964414151</td>\n",
       "      <td>9707446570</td>\n",
       "      <td>26711776340</td>\n",
       "    </tr>\n",
       "  </tbody>\n",
       "</table>\n",
       "</div>"
      ],
      "text/plain": [
       "분기            1분기                                   2분기              \\\n",
       "세분류명          선매품         전문품          편의품          선매품         전문품   \n",
       "연도                                                                    \n",
       "2014  42934693552  7014171399  31773780501  44345968514  7144509300   \n",
       "2015  43062126983  8449488109  33872021748  45041218944  9014991726   \n",
       "\n",
       "분기                         3분기                                   4분기  \\\n",
       "세분류명          편의품          선매품         전문품          편의품          선매품   \n",
       "연도                                                                     \n",
       "2014  30232166528  40021415079  6565896238  35135333150  47698473010   \n",
       "2015  31327426118  40182496566  8430342484  36770799092  48964414151   \n",
       "\n",
       "분기                             \n",
       "세분류명         전문품          편의품  \n",
       "연도                             \n",
       "2014  7807768855  26216402974  \n",
       "2015  9707446570  26711776340  "
      ]
     },
     "execution_count": 24,
     "metadata": {},
     "output_type": "execute_result"
    }
   ],
   "source": [
    "# 고정고객\n",
    "df_all_1 = pd.pivot_table(df_all,\n",
    "                     index = '연도', # 행 위치에 들어갈 열\n",
    "                     columns = ['분기','세분류명'], # 열 위치에들어갈 열\n",
    "                     values = '총구매액', # 데이터로 사용 할 열\n",
    "                     aggfunc = 'sum') # 데이터 집계 함수\n",
    "df_all_1"
   ]
  },
  {
   "cell_type": "code",
   "execution_count": 25,
   "id": "714480d9",
   "metadata": {},
   "outputs": [
    {
     "data": {
      "text/html": [
       "<div>\n",
       "<style scoped>\n",
       "    .dataframe tbody tr th:only-of-type {\n",
       "        vertical-align: middle;\n",
       "    }\n",
       "\n",
       "    .dataframe tbody tr th {\n",
       "        vertical-align: top;\n",
       "    }\n",
       "\n",
       "    .dataframe thead tr th {\n",
       "        text-align: left;\n",
       "    }\n",
       "\n",
       "    .dataframe thead tr:last-of-type th {\n",
       "        text-align: right;\n",
       "    }\n",
       "</style>\n",
       "<table border=\"1\" class=\"dataframe\">\n",
       "  <thead>\n",
       "    <tr>\n",
       "      <th>분기</th>\n",
       "      <th colspan=\"3\" halign=\"left\">1분기</th>\n",
       "      <th colspan=\"3\" halign=\"left\">2분기</th>\n",
       "      <th colspan=\"3\" halign=\"left\">3분기</th>\n",
       "      <th colspan=\"3\" halign=\"left\">4분기</th>\n",
       "    </tr>\n",
       "    <tr>\n",
       "      <th>세분류명</th>\n",
       "      <th>선매품</th>\n",
       "      <th>전문품</th>\n",
       "      <th>편의품</th>\n",
       "      <th>선매품</th>\n",
       "      <th>전문품</th>\n",
       "      <th>편의품</th>\n",
       "      <th>선매품</th>\n",
       "      <th>전문품</th>\n",
       "      <th>편의품</th>\n",
       "      <th>선매품</th>\n",
       "      <th>전문품</th>\n",
       "      <th>편의품</th>\n",
       "    </tr>\n",
       "    <tr>\n",
       "      <th>연도</th>\n",
       "      <th></th>\n",
       "      <th></th>\n",
       "      <th></th>\n",
       "      <th></th>\n",
       "      <th></th>\n",
       "      <th></th>\n",
       "      <th></th>\n",
       "      <th></th>\n",
       "      <th></th>\n",
       "      <th></th>\n",
       "      <th></th>\n",
       "      <th></th>\n",
       "    </tr>\n",
       "  </thead>\n",
       "  <tbody>\n",
       "    <tr>\n",
       "      <th>2014</th>\n",
       "      <td>29059644994</td>\n",
       "      <td>5301514407</td>\n",
       "      <td>17535909379</td>\n",
       "      <td>24661208354</td>\n",
       "      <td>3788008524</td>\n",
       "      <td>14880203830</td>\n",
       "      <td>20442681053</td>\n",
       "      <td>3125990365</td>\n",
       "      <td>16546327506</td>\n",
       "      <td>23637065204</td>\n",
       "      <td>3624101055</td>\n",
       "      <td>11659025599</td>\n",
       "    </tr>\n",
       "    <tr>\n",
       "      <th>2015</th>\n",
       "      <td>20912000412</td>\n",
       "      <td>4072410916</td>\n",
       "      <td>14419328013</td>\n",
       "      <td>20773533845</td>\n",
       "      <td>3725965200</td>\n",
       "      <td>12590805796</td>\n",
       "      <td>13260512835</td>\n",
       "      <td>1917371497</td>\n",
       "      <td>12820703552</td>\n",
       "      <td>21640164085</td>\n",
       "      <td>4238959778</td>\n",
       "      <td>10308758314</td>\n",
       "    </tr>\n",
       "  </tbody>\n",
       "</table>\n",
       "</div>"
      ],
      "text/plain": [
       "분기            1분기                                   2분기              \\\n",
       "세분류명          선매품         전문품          편의품          선매품         전문품   \n",
       "연도                                                                    \n",
       "2014  29059644994  5301514407  17535909379  24661208354  3788008524   \n",
       "2015  20912000412  4072410916  14419328013  20773533845  3725965200   \n",
       "\n",
       "분기                         3분기                                   4분기  \\\n",
       "세분류명          편의품          선매품         전문품          편의품          선매품   \n",
       "연도                                                                     \n",
       "2014  14880203830  20442681053  3125990365  16546327506  23637065204   \n",
       "2015  12590805796  13260512835  1917371497  12820703552  21640164085   \n",
       "\n",
       "분기                             \n",
       "세분류명         전문품          편의품  \n",
       "연도                             \n",
       "2014  3624101055  11659025599  \n",
       "2015  4238959778  10308758314  "
      ]
     },
     "execution_count": 25,
     "metadata": {},
     "output_type": "execute_result"
    }
   ],
   "source": [
    "df_down_1 = pd.pivot_table(df_down,\n",
    "                     index = '연도', # 행 위치에 들어갈 열\n",
    "                     columns = ['분기','세분류명'], # 열 위치에들어갈 열\n",
    "                     values = '총구매액', # 데이터로 사용 할 열\n",
    "                     aggfunc = 'sum') # 데이터 집계 함수\n",
    "df_down_1"
   ]
  },
  {
   "cell_type": "code",
   "execution_count": 27,
   "id": "74f7d781",
   "metadata": {},
   "outputs": [
    {
     "data": {
      "image/png": "[encoded data removed]",
      "text/plain": [
       "<Figure size 1498x360 with 4 Axes>"
      ]
     },
     "metadata": {},
     "output_type": "display_data"
    },
    {
     "data": {
      "image/png": "[encoded data removed]",
      "text/plain": [
       "<Figure size 781.5x360 with 2 Axes>"
      ]
     },
     "metadata": {},
     "output_type": "display_data"
    }
   ],
   "source": [
    "df_down_visualize_1 = df_down.groupby(['연도', '분기', '세분류명'])[['총구매액']].sum()\n",
    "df_down_visualize_1 = df_down_visualize_1.reset_index()\n",
    "sns.catplot(data = df_down_visualize_1, x = '세분류명', y = '총구매액', hue = '연도', col = '분기', kind = 'bar')\n",
    "plt.show()\n",
    "\n",
    "sns.catplot(data = df_down_visualize_1, x = '세분류명', y = '총구매액', hue = '분기', col = '연도', kind = 'bar')\n",
    "plt.show()"
   ]
  },
  {
   "cell_type": "code",
   "execution_count": 29,
   "id": "460efd42",
   "metadata": {},
   "outputs": [
    {
     "data": {
      "image/png": "[encoded data removed]",
      "text/plain": [
       "<Figure size 1498x360 with 4 Axes>"
      ]
     },
     "metadata": {},
     "output_type": "display_data"
    },
    {
     "data": {
      "image/png": "[encoded data removed]",
      "text/plain": [
       "<Figure size 781.5x360 with 2 Axes>"
      ]
     },
     "metadata": {},
     "output_type": "display_data"
    }
   ],
   "source": [
    "df_down_visualize_2 = df_down.loc[df_down['세분류명'] == '편의품']\n",
    "df_down_visualize_2.groupby(['연도', '분기', '분류']).sum().reset_index()\n",
    "\n",
    "sns.catplot(data = df_down_visualize_2, x = '분류', y = '총구매액', hue = '연도', col = '분기', kind = 'bar', ci = False)\n",
    "plt.xticks(rotation=45)\n",
    "plt.show()\n",
    "\n",
    "sns.catplot(data = df_down_visualize_2, x = '분류', y = '총구매액', hue = '분기', col = '연도', kind = 'bar', ci = False)\n",
    "plt.show()"
   ]
  },
  {
   "cell_type": "code",
   "execution_count": 28,
   "id": "944dab7d",
   "metadata": {},
   "outputs": [
    {
     "data": {
      "image/png": "[encoded data removed]",
      "text/plain": [
       "<Figure size 1498x360 with 4 Axes>"
      ]
     },
     "metadata": {},
     "output_type": "display_data"
    },
    {
     "data": {
      "image/png": "[encoded data removed]",
      "text/plain": [
       "<Figure size 781.5x360 with 2 Axes>"
      ]
     },
     "metadata": {},
     "output_type": "display_data"
    }
   ],
   "source": [
    "df_down_visualize_2 = df_down.loc[df_down['세분류명'] == '선매품']\n",
    "df_down_visualize_2.groupby(['연도', '분기', '분류']).sum().reset_index()\n",
    "\n",
    "sns.catplot(data = df_down_visualize_2, x = '분류', y = '총구매액', hue = '연도', col = '분기', kind = 'bar', ci = False)\n",
    "plt.xticks(rotation=45)\n",
    "plt.show()\n",
    "\n",
    "sns.catplot(data = df_down_visualize_2, x = '분류', y = '총구매액', hue = '분기', col = '연도', kind = 'bar', ci = False)\n",
    "plt.show()"
   ]
  },
  {
   "cell_type": "code",
   "execution_count": 31,
   "id": "57dcec86",
   "metadata": {},
   "outputs": [
    {
     "data": {
      "image/png": "[encoded data removed]",
      "text/plain": [
       "<Figure size 1498x360 with 4 Axes>"
      ]
     },
     "metadata": {},
     "output_type": "display_data"
    },
    {
     "data": {
      "image/png": "[encoded data removed]",
      "text/plain": [
       "<Figure size 781.5x360 with 2 Axes>"
      ]
     },
     "metadata": {},
     "output_type": "display_data"
    }
   ],
   "source": [
    "df_all_visualize_3 = df_all.loc[df_all['세분류명'] == '선매품']\n",
    "df_all_visualize_3.groupby(['연도', '분기', '분류']).sum().reset_index()\n",
    "\n",
    "sns.catplot(data = df_all_visualize_3, x = '분류', y = '총구매액', hue = '연도', col = '분기', kind = 'bar', ci = False)\n",
    "plt.xticks(rotation=45)\n",
    "plt.show()\n",
    "\n",
    "sns.catplot(data = df_all_visualize_3, x = '분류', y = '총구매액', hue = '분기', col = '연도', kind = 'bar', ci = False)\n",
    "plt.show()"
   ]
  },
  {
   "cell_type": "code",
   "execution_count": 32,
   "id": "db5c492a",
   "metadata": {},
   "outputs": [
    {
     "data": {
      "image/png": "[encoded data removed]",
      "text/plain": [
       "<Figure size 1498x360 with 4 Axes>"
      ]
     },
     "metadata": {},
     "output_type": "display_data"
    },
    {
     "data": {
      "image/png": "[encoded data removed]",
      "text/plain": [
       "<Figure size 781.5x360 with 2 Axes>"
      ]
     },
     "metadata": {},
     "output_type": "display_data"
    }
   ],
   "source": [
    "df_up_visualize_3 = df_up.loc[df_up['세분류명'] == '선매품']\n",
    "df_up_visualize_3.groupby(['연도', '분기', '분류']).sum().reset_index()\n",
    "\n",
    "sns.catplot(data = df_up_visualize_3, x = '분류', y = '총구매액', hue = '연도', col = '분기', kind = 'bar', ci = False)\n",
    "plt.xticks(rotation=45)\n",
    "plt.show()\n",
    "\n",
    "sns.catplot(data = df_up_visualize_3, x = '분류', y = '총구매액', hue = '분기', col = '연도', kind = 'bar', ci = False)\n",
    "plt.show()"
   ]
  }
 ],
 "metadata": {
  "kernelspec": {
   "display_name": "Python 3 (ipykernel)",
   "language": "python",
   "name": "python3"
  },
  "language_info": {
   "codemirror_mode": {
    "name": "ipython",
    "version": 3
   },
   "file_extension": ".py",
   "mimetype": "text/x-python",
   "name": "python",
   "nbconvert_exporter": "python",
   "pygments_lexer": "ipython3",
   "version": "3.8.12"
  }
 },
 "nbformat": 4,
 "nbformat_minor": 5
}
